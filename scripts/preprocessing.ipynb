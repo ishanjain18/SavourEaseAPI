{
 "cells": [
  {
   "cell_type": "code",
   "execution_count": 1,
   "id": "aa58eb8e",
   "metadata": {},
   "outputs": [],
   "source": [
    "import pandas as pd\n",
    "import re\n",
    "from sklearn.compose import make_column_transformer\n",
    "from sklearn.preprocessing import OneHotEncoder\n",
    "from sklearn.preprocessing import MinMaxScaler\n",
    "import numpy as np\n",
    "# Load the CSV file into a pandas DataFrame\n",
    "df = pd.read_csv('IndianFoodDatasetCSV.csv')\n",
    "\n",
    "\n",
    "# Print the first few rows of the DataFrame\n"
   ]
  },
  {
   "cell_type": "code",
   "execution_count": 2,
   "id": "97344f91",
   "metadata": {},
   "outputs": [],
   "source": [
    "removed = {}\n",
    "def string_cleaner(string: str):\n",
    "    # remove non-alphabets\n",
    "    clean_string = re.sub(r'[^a-zA-Z\\s]', '', string).lower()\n",
    "\n",
    "    # remove units\n",
    "    units = [\"teaspoons\",\"cups\",\"powder\",\"tablespoons\",\"tablespoon\",\"grams\", \"pieces\", \"few\",\n",
    "             \"g\", \"as\", \"make\", \"use\", \"grind\", \"per\", \"taste\", \"to\", \"or\", \"of\" ,\"cup\",\"inch\"\n",
    "             ,\"teaspoon\",\"gram\",\"tsp\",\"tbsp\",\"ml\",\"kg\",\"ssp\",\"gm\",\"pinch\", \"handful\"]\n",
    "\n",
    "    for unit in units:\n",
    "        raw_unit = r\"\\b{unit}\\b\".format(unit=unit)\n",
    "        clean_string = re.sub(raw_unit,\"\", clean_string)\n",
    "    return clean_string.strip()\n",
    "\n",
    "def low_freq_filter(word_map):\n",
    "\n",
    "    \n",
    "    for word in word_map:\n",
    "        if word_map[word] < 15:\n",
    "            removed[word] = 1\n",
    "    for i in removed:\n",
    "        \n",
    "        word_map.pop(i)\n",
    "    return word_map\n",
    "\n",
    "def filter_ingredients(dataframe):\n",
    "\n",
    "    words = []\n",
    "    for ings in dataframe.TranslatedIngredients.str.split(','):\n",
    "        if isinstance(ings, float):\n",
    "            continue\n",
    "\n",
    "        for ing in ings:\n",
    "            full_ing = (ing.strip().split(' - '))\n",
    "            dash_count = len(full_ing)\n",
    "\n",
    "            if dash_count > 2:\n",
    "                words.append(string_cleaner(full_ing[0]))\n",
    "                words.append(string_cleaner(full_ing[1]))\n",
    "            else:\n",
    "                words.append(string_cleaner(full_ing[0]))\n",
    "\n",
    "    word_map = {}\n",
    "    words = [word for word in words if word != '']\n",
    "\n",
    "    for word in words:\n",
    "        word_map[word] = word_map.get(word, 0) + 1\n",
    "\n",
    "    word_map = low_freq_filter(word_map)\n",
    "    return word_map\n",
    "\n",
    "filtered_ingredients = filter_ingredients(df)\n",
    "sorted_ingredients = sorted(filtered_ingredients.items(), key= lambda x: x[1], reverse=True)\n",
    "\n",
    "# print(sorted_ingredients)\n",
    "# l = []\n",
    "# for name, freq in sorted_ingredients:\n",
    "#     l.append({\"name\": name, \"frequency\": freq})\n",
    "# print(removed)\n",
    "# for item in l:\n",
    "#     print(item, end=\",\\n\")\n",
    "\n"
   ]
  },
  {
   "cell_type": "code",
   "execution_count": 3,
   "id": "fec18f7f",
   "metadata": {},
   "outputs": [],
   "source": [
    "count = 0\n",
    "ingredients = []\n",
    "\n",
    "for ings in df.TranslatedIngredients.str.split(','):\n",
    "    words = []\n",
    "    \n",
    "    # Ingredients missing - so add an empty array in its place\n",
    "    if isinstance(ings, float):\n",
    "        ingredients.append([])\n",
    "        continue\n",
    "\n",
    "    for ing in ings:\n",
    "        full_ing = (ing.strip().split(' - '))\n",
    "        dash_count = len(full_ing)\n",
    "\n",
    "        ing1 = string_cleaner(full_ing[0])\n",
    "        \n",
    "        if dash_count > 2:\n",
    "            ing2 = string_cleaner(full_ing[1])\n",
    "            if ing1: words.append(ing1)\n",
    "            if ing2: words.append(ing2)\n",
    "        else:\n",
    "            if ing1: words.append(ing1)\n",
    "\n",
    "    # replace ingredients which are <15 frequency by category \"other\"\n",
    "    final_ingredients = []\n",
    "    check = False\n",
    "\n",
    "    for word in words:\n",
    "        if removed.get(word, 0):\n",
    "            # the current dish contains an ingredient that falls in \"other\" category.\n",
    "            check=True\n",
    "        else:\n",
    "            final_ingredients.append(word)\n",
    "    if check: final_ingredients.append('other')\n",
    "\n",
    "    ingredients.append(final_ingredients)"
   ]
  },
  {
   "cell_type": "code",
   "execution_count": 4,
   "id": "04935b3c",
   "metadata": {
    "scrolled": true
   },
   "outputs": [],
   "source": [
    "df['FilteredIngredients'] = ingredients"
   ]
  },
  {
   "cell_type": "code",
   "execution_count": 5,
   "id": "19de2060",
   "metadata": {
    "scrolled": false
   },
   "outputs": [],
   "source": [
    "# remove unnecessary columns\n",
    "new_df = df\n",
    "new_df = new_df.drop('Srno', axis=1)\n",
    "new_df = new_df.drop('RecipeName', axis=1)\n",
    "new_df = new_df.drop('Instructions', axis=1)\n",
    "new_df = new_df.drop('Ingredients', axis=1)\n",
    "\n",
    "\n",
    "# drop rows where the 'ingredients' column has an empty list\n",
    "new_df = new_df[new_df['FilteredIngredients'].apply(lambda x: len(x) > 0)]\n",
    "\n",
    "# Problematic Row\n",
    "new_df = new_df[new_df['TranslatedRecipeName'] != 'Shahi Vegetable Pulao Recipe - Shahi Vegetable Pulao']\n",
    "\n",
    "\n",
    "# rename columns\n",
    "new_df.rename(columns={\n",
    "    'TranslatedRecipeName': 'RecipeName',\n",
    "    'TranslatedIngredients': 'FullIngredients',\n",
    "    'TranslatedInstructions': 'Instructions',\n",
    "    'FilteredIngredients': 'Ingredients'}, inplace=True)\n",
    "\n",
    "# reposition columns\n",
    "new_df = new_df.reindex(columns=['RecipeName','Ingredients', 'FullIngredients', 'PrepTimeInMins',\n",
    "       'CookTimeInMins', 'TotalTimeInMins', 'Servings', 'Cuisine', 'Course',\n",
    "       'Diet', 'Instructions', 'URL'])"
   ]
  },
  {
   "cell_type": "code",
   "execution_count": 6,
   "id": "47d2f01f",
   "metadata": {},
   "outputs": [],
   "source": [
    "new_df.to_csv('../datasets/data.csv', index=False)"
   ]
  },
  {
   "cell_type": "code",
   "execution_count": 7,
   "id": "4037e00c",
   "metadata": {},
   "outputs": [],
   "source": [
    "import pandas as pd\n",
    "from sklearn.preprocessing import OneHotEncoder\n",
    "\n",
    "\n",
    "for col in ['Diet', 'Course', 'Cuisine']:\n",
    "\n",
    "    # initialize OneHotEncoder\n",
    "    encoder = OneHotEncoder()\n",
    "\n",
    "    # fit and transform the 'fruit' column\n",
    "    onehot = encoder.fit_transform(new_df[[col]]).toarray()\n",
    "\n",
    "    # create columns with unique values\n",
    "    cols = sorted(list(set(new_df[col])))\n",
    "    new_df[cols] = onehot\n",
    "\n",
    "    # drop the original 'fruit' column\n",
    "    new_df = new_df.drop(col, axis=1)\n",
    "\n",
    "part1_df = new_df\n",
    "\n"
   ]
  },
  {
   "cell_type": "code",
   "execution_count": 8,
   "id": "d24291a3",
   "metadata": {},
   "outputs": [],
   "source": [
    "# One-hot encoding the ingredients\n",
    "\n",
    "from sklearn.preprocessing import MultiLabelBinarizer\n",
    "\n",
    "mlb = MultiLabelBinarizer()\n",
    "\n",
    "part2_df = pd.DataFrame(mlb.fit_transform(new_df['Ingredients']),columns=mlb.classes_, index=new_df.index)\n"
   ]
  },
  {
   "cell_type": "code",
   "execution_count": 9,
   "id": "26510d14",
   "metadata": {},
   "outputs": [
    {
     "data": {
      "text/plain": [
       "(6325, 528)"
      ]
     },
     "execution_count": 9,
     "metadata": {},
     "output_type": "execute_result"
    }
   ],
   "source": [
    "# print(transformed_df.shape, ing_df.shape)\n",
    "\n",
    "final_df = pd.concat([part1_df, part2_df], axis=1, join='outer')\n",
    "final_df.shape\n"
   ]
  },
  {
   "cell_type": "code",
   "execution_count": 10,
   "id": "d3cdb35e",
   "metadata": {},
   "outputs": [
    {
     "name": "stdout",
     "output_type": "stream",
     "text": [
      "(6325, 521)\n"
     ]
    }
   ],
   "source": [
    "final_df = final_df.drop('RecipeName', axis=1)\n",
    "final_df = final_df.drop('Ingredients', axis=1)\n",
    "final_df = final_df.drop('FullIngredients', axis=1)\n",
    "final_df = final_df.drop('PrepTimeInMins', axis=1)\n",
    "final_df = final_df.drop('CookTimeInMins', axis=1)\n",
    "final_df = final_df.drop('Instructions', axis=1)\n",
    "final_df = final_df.drop('URL', axis=1)\n",
    "\n",
    "\n",
    "# normalize prep time , cook time, total time, serving size \n",
    "\n",
    "# final_df.rename(columns={\n",
    "\n",
    "# 'remainder__PrepTimeInMins':'PrepTimeInMins',\n",
    "# 'remainder__CookTimeInMins':'CookTimeInMins',\n",
    "# 'remainder__TotalTimeInMins':'TotalTimeInMins',\n",
    "# 'remainder__Servings':'Servings',\n",
    "\n",
    "# }, inplace=True)\n",
    "  \n",
    "for col in ['Servings', 'TotalTimeInMins']:\n",
    "    \n",
    "    final_df[col] = MinMaxScaler().fit_transform(np.array(final_df[col]).reshape(-1,1))\n",
    "\n",
    "print(final_df.shape)\n",
    "\n"
   ]
  },
  {
   "cell_type": "code",
   "execution_count": 11,
   "id": "72700f7d",
   "metadata": {},
   "outputs": [
    {
     "name": "stdout",
     "output_type": "stream",
     "text": [
      "(6325, 521)\n"
     ]
    }
   ],
   "source": [
    "print(final_df.shape)"
   ]
  },
  {
   "cell_type": "code",
   "execution_count": 12,
   "id": "d633a508",
   "metadata": {},
   "outputs": [],
   "source": [
    "final_df.to_csv('../datasets/encoded.csv', index=False)"
   ]
  }
 ],
 "metadata": {
  "kernelspec": {
   "display_name": "Python 3 (ipykernel)",
   "language": "python",
   "name": "python3"
  },
  "language_info": {
   "codemirror_mode": {
    "name": "ipython",
    "version": 3
   },
   "file_extension": ".py",
   "mimetype": "text/x-python",
   "name": "python",
   "nbconvert_exporter": "python",
   "pygments_lexer": "ipython3",
   "version": "3.8.8"
  }
 },
 "nbformat": 4,
 "nbformat_minor": 5
}
